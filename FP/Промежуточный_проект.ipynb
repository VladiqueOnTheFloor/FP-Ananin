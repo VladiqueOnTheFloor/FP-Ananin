{
 "cells": [
  {
   "cell_type": "code",
   "execution_count": 3,
   "metadata": {},
   "outputs": [],
   "source": [
    "import pandas as pd\n",
    "import scipy\n",
    "from scipy import special\n",
    "from scipy import stats as ss\n",
    "import seaborn as sns\n",
    "import matplotlib.pyplot as plt\n",
    "import numpy as np\n",
    "from numpy import random\n",
    "import pingouin as pg\n",
    "from datetime import datetime\n",
    "from statsmodels.stats.multicomp import (pairwise_tukeyhsd,\n",
    "                                         MultiComparison)\n"
   ]
  },
  {
   "cell_type": "code",
   "execution_count": 4,
   "metadata": {},
   "outputs": [],
   "source": [
    "#Выгрузим данные сразу и распарсим даты😎\n",
    "customers = pd.read_csv('/mnt/HC_Volume_18315164/home-jupyter/jupyter-v-ananin/Данные Пром.проект/olist_customers_dataset.csv')\n",
    "orders = pd.read_csv('/mnt/HC_Volume_18315164/home-jupyter/jupyter-v-ananin/Данные Пром.проект/olist_orders_dataset.csv', parse_dates = ['order_purchase_timestamp', 'order_approved_at', 'order_delivered_carrier_date', 'order_delivered_customer_date', 'order_estimated_delivery_date'])\n",
    "items = pd.read_csv('/mnt/HC_Volume_18315164/home-jupyter/jupyter-v-ananin/Данные Пром.проект/olist_order_items_dataset.csv', parse_dates = ['shipping_limit_date'])"
   ]
  },
  {
   "cell_type": "code",
   "execution_count": 5,
   "metadata": {},
   "outputs": [
    {
     "data": {
      "text/html": [
       "<div>\n",
       "<style scoped>\n",
       "    .dataframe tbody tr th:only-of-type {\n",
       "        vertical-align: middle;\n",
       "    }\n",
       "\n",
       "    .dataframe tbody tr th {\n",
       "        vertical-align: top;\n",
       "    }\n",
       "\n",
       "    .dataframe thead th {\n",
       "        text-align: right;\n",
       "    }\n",
       "</style>\n",
       "<table border=\"1\" class=\"dataframe\">\n",
       "  <thead>\n",
       "    <tr style=\"text-align: right;\">\n",
       "      <th></th>\n",
       "      <th>customer_unique_id</th>\n",
       "    </tr>\n",
       "    <tr>\n",
       "      <th>customer_unique_id</th>\n",
       "      <th></th>\n",
       "    </tr>\n",
       "  </thead>\n",
       "  <tbody>\n",
       "    <tr>\n",
       "      <th>0000366f3b9a7992bf8c76cfdf3221e2</th>\n",
       "      <td>1</td>\n",
       "    </tr>\n",
       "    <tr>\n",
       "      <th>0000b849f77a49e4a4ce2b2a4ca5be3f</th>\n",
       "      <td>1</td>\n",
       "    </tr>\n",
       "    <tr>\n",
       "      <th>0000f46a3911fa3c0805444483337064</th>\n",
       "      <td>1</td>\n",
       "    </tr>\n",
       "    <tr>\n",
       "      <th>0000f6ccb0745a6a4b88665a16c9f078</th>\n",
       "      <td>1</td>\n",
       "    </tr>\n",
       "    <tr>\n",
       "      <th>0004aac84e0df4da2b147fca70cf8255</th>\n",
       "      <td>1</td>\n",
       "    </tr>\n",
       "    <tr>\n",
       "      <th>...</th>\n",
       "      <td>...</td>\n",
       "    </tr>\n",
       "    <tr>\n",
       "      <th>fffcf5a5ff07b0908bd4e2dbc735a684</th>\n",
       "      <td>1</td>\n",
       "    </tr>\n",
       "    <tr>\n",
       "      <th>fffea47cd6d3cc0a88bd621562a9d061</th>\n",
       "      <td>1</td>\n",
       "    </tr>\n",
       "    <tr>\n",
       "      <th>ffff371b4d645b6ecea244b27531430a</th>\n",
       "      <td>1</td>\n",
       "    </tr>\n",
       "    <tr>\n",
       "      <th>ffff5962728ec6157033ef9805bacc48</th>\n",
       "      <td>1</td>\n",
       "    </tr>\n",
       "    <tr>\n",
       "      <th>ffffd2657e2aad2907e67c3e9daecbeb</th>\n",
       "      <td>1</td>\n",
       "    </tr>\n",
       "  </tbody>\n",
       "</table>\n",
       "<p>93358 rows × 1 columns</p>\n",
       "</div>"
      ],
      "text/plain": [
       "                                  customer_unique_id\n",
       "customer_unique_id                                  \n",
       "0000366f3b9a7992bf8c76cfdf3221e2                   1\n",
       "0000b849f77a49e4a4ce2b2a4ca5be3f                   1\n",
       "0000f46a3911fa3c0805444483337064                   1\n",
       "0000f6ccb0745a6a4b88665a16c9f078                   1\n",
       "0004aac84e0df4da2b147fca70cf8255                   1\n",
       "...                                              ...\n",
       "fffcf5a5ff07b0908bd4e2dbc735a684                   1\n",
       "fffea47cd6d3cc0a88bd621562a9d061                   1\n",
       "ffff371b4d645b6ecea244b27531430a                   1\n",
       "ffff5962728ec6157033ef9805bacc48                   1\n",
       "ffffd2657e2aad2907e67c3e9daecbeb                   1\n",
       "\n",
       "[93358 rows x 1 columns]"
      ]
     },
     "execution_count": 5,
     "metadata": {},
     "output_type": "execute_result"
    }
   ],
   "source": [
    "#Убедимся в наличии и отсутсвии NULL в разных колонках.\n",
    "#orders_customers.isna().sum()\n",
    "#order_approved_at                14\n",
    "#order_delivered_carrier_date      2\n",
    "#order_delivered_customer_date     8\n",
    "\n",
    "orders_customers = orders.merge(customers, how = 'inner', on = 'customer_id')\n",
    "\n",
    "orders_customers = orders_customers.query('order_status == \"delivered\"')\n",
    "\n",
    "orders_customers = orders_customers.groupby('customer_unique_id')\n",
    "\n",
    "orders_customers.customer_unique_id.nunique().to_frame()\n",
    "\n",
    "#За совершенную покупку беру только \"delivered\", т.к. на любом другом этапе покупка в теории может быть отменена и потеряна\n",
    "#1.Ответ: 93358🤔"
   ]
  },
  {
   "cell_type": "code",
   "execution_count": 41,
   "metadata": {},
   "outputs": [],
   "source": [
    "#2. \n",
    "#Сколько заказов в месяц в среднем не доставляется по разным причинам (вывести детализацию по причинам)?\n",
    "#unavailable —  недоступен\n",
    "#canceled —  отменён"
   ]
  },
  {
   "cell_type": "code",
   "execution_count": 6,
   "metadata": {},
   "outputs": [],
   "source": [
    "#Выделяем причины проблем с заказами за весь период наблюдений\n",
    "order_cancel = orders.query('order_status == \"canceled\"')\n",
    "order_unavailable = orders.query('order_status == \"unavailable\"')\n",
    "\n",
    "#Есть 3 основные причины: Отмена (~620), Недоступность (~600) и \n",
    "#прерывание оформления (заказ создан, но не оплачен — order_approved_at == NaN = 14)"
   ]
  },
  {
   "cell_type": "code",
   "execution_count": 7,
   "metadata": {},
   "outputs": [
    {
     "data": {
      "text/plain": [
       "52.083333333333336"
      ]
     },
     "execution_count": 7,
     "metadata": {},
     "output_type": "execute_result"
    }
   ],
   "source": [
    "order_cancel_month = order_cancel['order_purchase_timestamp'].dt.strftime('order_purchase_timestamp : %m')\n",
    "\n",
    "order_cancel_month = order_cancel_month.groupby(order_cancel_month).count()\n",
    "\n",
    "#Подсчитываем общее количество отмененных заказов\n",
    "total_cancelled_orders = order_cancel_month.sum()\n",
    "\n",
    "#Подсчитываем количество месяцев, за которые у нас есть данные\n",
    "num_months = len(order_cancel_month)\n",
    "\n",
    "#Считаем среднее количество отмененных заказов за все месяцы\n",
    "avg_cancelled_orders_per_month = total_cancelled_orders / num_months\n",
    "avg_cancelled_orders_per_month\n",
    "\n",
    "#Ответ: 52.083333333333336 отмен заказов в месяц"
   ]
  },
  {
   "cell_type": "code",
   "execution_count": 8,
   "metadata": {},
   "outputs": [
    {
     "data": {
      "text/plain": [
       "50.75"
      ]
     },
     "execution_count": 8,
     "metadata": {},
     "output_type": "execute_result"
    }
   ],
   "source": [
    "order_unavailable_month = order_unavailable['order_purchase_timestamp'].dt.strftime('order_purchase_timestamp : %m')\n",
    "\n",
    "order_unavailable_month = order_unavailable_month.groupby(order_unavailable_month).count()\n",
    "\n",
    "#Подсчитываем общее количество отмененных заказов\n",
    "total_unavailable_orders = order_unavailable_month.sum()\n",
    "\n",
    "#Подсчитываем количество месяцев, за которые у нас есть данные\n",
    "num_months_unavailable = len(order_unavailable_month) #В распоряжении ГОД\n",
    "\n",
    "#Считаем среднее количество отмененных заказов за все месяцы\n",
    "avg_order_unavailable_per_month = total_unavailable_orders / num_months_unavailable\n",
    "avg_order_unavailable_per_month\n",
    "\n",
    "#Ответ: 50.75 недоступных заказа месяц"
   ]
  },
  {
   "cell_type": "code",
   "execution_count": 9,
   "metadata": {},
   "outputs": [
    {
     "data": {
      "image/png": "[encoded data removed]",
      "text/plain": [
       "<Figure size 720x432 with 1 Axes>"
      ]
     },
     "metadata": {
      "needs_background": "light"
     },
     "output_type": "display_data"
    }
   ],
   "source": [
    "#Продемонстрируем более наглядно🤓\n",
    "plt.figure(figsize=(10, 6))\n",
    "plt.plot(order_cancel_month.index, order_cancel_month.values, label='Отмененные заказы')\n",
    "plt.plot(order_unavailable_month.index, order_unavailable_month.values, label='Недоступные заказы')\n",
    "plt.title('Отмененные и недоступные заказы (ср. в месяц)')\n",
    "plt.xlabel('Месяц')\n",
    "plt.ylabel('Кол-во заказов')\n",
    "plt.legend()\n",
    "plt.xticks(rotation=45)\n",
    "plt.show()\n",
    "#На графике видно, что динамика недоступных и отмененных заказов по месяцам похожи, \n",
    "#однако летом заказы чаще отменяются, нежели недоступны. Осенью недоступных заказов больше чем летом."
   ]
  },
  {
   "cell_type": "code",
   "execution_count": 10,
   "metadata": {},
   "outputs": [
    {
     "data": {
      "text/html": [
       "<div>\n",
       "<style scoped>\n",
       "    .dataframe tbody tr th:only-of-type {\n",
       "        vertical-align: middle;\n",
       "    }\n",
       "\n",
       "    .dataframe tbody tr th {\n",
       "        vertical-align: top;\n",
       "    }\n",
       "\n",
       "    .dataframe thead th {\n",
       "        text-align: right;\n",
       "    }\n",
       "</style>\n",
       "<table border=\"1\" class=\"dataframe\">\n",
       "  <thead>\n",
       "    <tr style=\"text-align: right;\">\n",
       "      <th></th>\n",
       "      <th>order_item_id</th>\n",
       "    </tr>\n",
       "    <tr>\n",
       "      <th>product_id</th>\n",
       "      <th></th>\n",
       "    </tr>\n",
       "  </thead>\n",
       "  <tbody>\n",
       "    <tr>\n",
       "      <th>00066f42aeeb9f3007548bb9d3f33c38</th>\n",
       "      <td>6</td>\n",
       "    </tr>\n",
       "    <tr>\n",
       "      <th>00088930e925c41fd95ebfe695fd2655</th>\n",
       "      <td>1</td>\n",
       "    </tr>\n",
       "    <tr>\n",
       "      <th>0009406fd7479715e4bef61dd91f2462</th>\n",
       "      <td>3</td>\n",
       "    </tr>\n",
       "    <tr>\n",
       "      <th>000b8f95fcb9e0096488278317764d19</th>\n",
       "      <td>2</td>\n",
       "    </tr>\n",
       "    <tr>\n",
       "      <th>000d9be29b5207b54e86aa1b1ac54872</th>\n",
       "      <td>1</td>\n",
       "    </tr>\n",
       "    <tr>\n",
       "      <th>...</th>\n",
       "      <td>...</td>\n",
       "    </tr>\n",
       "    <tr>\n",
       "      <th>fff6177642830a9a94a0f2cba5e476d1</th>\n",
       "      <td>5</td>\n",
       "    </tr>\n",
       "    <tr>\n",
       "      <th>fff81cc3158d2725c0655ab9ba0f712c</th>\n",
       "      <td>0</td>\n",
       "    </tr>\n",
       "    <tr>\n",
       "      <th>fff9553ac224cec9d15d49f5a263411f</th>\n",
       "      <td>4</td>\n",
       "    </tr>\n",
       "    <tr>\n",
       "      <th>fffdb2d0ec8d6a61f0a0a0db3f25b441</th>\n",
       "      <td>1</td>\n",
       "    </tr>\n",
       "    <tr>\n",
       "      <th>fffe9eeff12fcbd74a2f2b007dde0c58</th>\n",
       "      <td>2</td>\n",
       "    </tr>\n",
       "  </tbody>\n",
       "</table>\n",
       "<p>32951 rows × 1 columns</p>\n",
       "</div>"
      ],
      "text/plain": [
       "                                  order_item_id\n",
       "product_id                                     \n",
       "00066f42aeeb9f3007548bb9d3f33c38              6\n",
       "00088930e925c41fd95ebfe695fd2655              1\n",
       "0009406fd7479715e4bef61dd91f2462              3\n",
       "000b8f95fcb9e0096488278317764d19              2\n",
       "000d9be29b5207b54e86aa1b1ac54872              1\n",
       "...                                         ...\n",
       "fff6177642830a9a94a0f2cba5e476d1              5\n",
       "fff81cc3158d2725c0655ab9ba0f712c              0\n",
       "fff9553ac224cec9d15d49f5a263411f              4\n",
       "fffdb2d0ec8d6a61f0a0a0db3f25b441              1\n",
       "fffe9eeff12fcbd74a2f2b007dde0c58              2\n",
       "\n",
       "[32951 rows x 1 columns]"
      ]
     },
     "execution_count": 10,
     "metadata": {},
     "output_type": "execute_result"
    }
   ],
   "source": [
    "#3. \n",
    "#По каждому товару определить, в какой день недели товар чаще всего покупается.\n",
    "merged = pd.merge(orders, items, on='order_id')\n",
    "\n",
    "#Преобразование столбца order_purchase_timestamp в формат datetime\n",
    "merged['order_purchase_timestamp'] = pd.to_datetime(merged['order_purchase_timestamp'])\n",
    "\n",
    "#Получение дня недели для каждой продажи\n",
    "merged['weekday'] = merged['order_purchase_timestamp'].dt.weekday\n",
    "\n",
    "#Подсчет количества продаж\n",
    "product_weekday_sales = merged.groupby(['product_id', 'weekday'])['order_item_id'].count()\n",
    "\n",
    "#Получение дня недели\n",
    "most_common_weekday = product_weekday_sales.groupby('product_id').idxmax().apply(lambda x: x[1])\n",
    "most_common_weekday.to_frame()\n",
    "#Ответ:^👆"
   ]
  },
  {
   "cell_type": "code",
   "execution_count": null,
   "metadata": {},
   "outputs": [],
   "source": [
    "#4. \n",
    "#Сколько у каждого из пользователей в среднем покупок в неделю (по месяцам)?\n",
    "#Не стоит забывать, что внутри месяца может быть не целое количество недель. \n",
    "#Например, в ноябре 2021 года 4,28 недели. И внутри метрики это нужно учесть."
   ]
  },
  {
   "cell_type": "code",
   "execution_count": 100,
   "metadata": {},
   "outputs": [],
   "source": [
    "#order_approved_at —  время подтверждения оплаты заказа — берем за факт \"покупка\"\n"
   ]
  },
  {
   "cell_type": "code",
   "execution_count": 11,
   "metadata": {},
   "outputs": [
    {
     "name": "stderr",
     "output_type": "stream",
     "text": [
      "/opt/tljh/user/lib/python3.7/site-packages/ipykernel_launcher.py:5: FutureWarning: Series.dt.weekofyear and Series.dt.week have been deprecated.  Please use Series.dt.isocalendar().week instead.\n",
      "  \"\"\"\n"
     ]
    },
    {
     "data": {
      "text/html": [
       "<div>\n",
       "<style scoped>\n",
       "    .dataframe tbody tr th:only-of-type {\n",
       "        vertical-align: middle;\n",
       "    }\n",
       "\n",
       "    .dataframe tbody tr th {\n",
       "        vertical-align: top;\n",
       "    }\n",
       "\n",
       "    .dataframe thead th {\n",
       "        text-align: right;\n",
       "    }\n",
       "</style>\n",
       "<table border=\"1\" class=\"dataframe\">\n",
       "  <thead>\n",
       "    <tr style=\"text-align: right;\">\n",
       "      <th></th>\n",
       "      <th>customer_unique_id</th>\n",
       "      <th>month</th>\n",
       "      <th>average_orders</th>\n",
       "    </tr>\n",
       "  </thead>\n",
       "  <tbody>\n",
       "    <tr>\n",
       "      <th>0</th>\n",
       "      <td>0000366f3b9a7992bf8c76cfdf3221e2</td>\n",
       "      <td>5</td>\n",
       "      <td>1.0</td>\n",
       "    </tr>\n",
       "    <tr>\n",
       "      <th>1</th>\n",
       "      <td>0000b849f77a49e4a4ce2b2a4ca5be3f</td>\n",
       "      <td>5</td>\n",
       "      <td>1.0</td>\n",
       "    </tr>\n",
       "    <tr>\n",
       "      <th>2</th>\n",
       "      <td>0000f46a3911fa3c0805444483337064</td>\n",
       "      <td>3</td>\n",
       "      <td>1.0</td>\n",
       "    </tr>\n",
       "    <tr>\n",
       "      <th>3</th>\n",
       "      <td>0000f6ccb0745a6a4b88665a16c9f078</td>\n",
       "      <td>10</td>\n",
       "      <td>1.0</td>\n",
       "    </tr>\n",
       "    <tr>\n",
       "      <th>4</th>\n",
       "      <td>0004aac84e0df4da2b147fca70cf8255</td>\n",
       "      <td>11</td>\n",
       "      <td>1.0</td>\n",
       "    </tr>\n",
       "    <tr>\n",
       "      <th>...</th>\n",
       "      <td>...</td>\n",
       "      <td>...</td>\n",
       "      <td>...</td>\n",
       "    </tr>\n",
       "    <tr>\n",
       "      <th>97996</th>\n",
       "      <td>fffcf5a5ff07b0908bd4e2dbc735a684</td>\n",
       "      <td>6</td>\n",
       "      <td>1.0</td>\n",
       "    </tr>\n",
       "    <tr>\n",
       "      <th>97997</th>\n",
       "      <td>fffea47cd6d3cc0a88bd621562a9d061</td>\n",
       "      <td>12</td>\n",
       "      <td>1.0</td>\n",
       "    </tr>\n",
       "    <tr>\n",
       "      <th>97998</th>\n",
       "      <td>ffff371b4d645b6ecea244b27531430a</td>\n",
       "      <td>2</td>\n",
       "      <td>1.0</td>\n",
       "    </tr>\n",
       "    <tr>\n",
       "      <th>97999</th>\n",
       "      <td>ffff5962728ec6157033ef9805bacc48</td>\n",
       "      <td>5</td>\n",
       "      <td>1.0</td>\n",
       "    </tr>\n",
       "    <tr>\n",
       "      <th>98000</th>\n",
       "      <td>ffffd2657e2aad2907e67c3e9daecbeb</td>\n",
       "      <td>5</td>\n",
       "      <td>1.0</td>\n",
       "    </tr>\n",
       "  </tbody>\n",
       "</table>\n",
       "<p>98001 rows × 3 columns</p>\n",
       "</div>"
      ],
      "text/plain": [
       "                     customer_unique_id  month  average_orders\n",
       "0      0000366f3b9a7992bf8c76cfdf3221e2      5             1.0\n",
       "1      0000b849f77a49e4a4ce2b2a4ca5be3f      5             1.0\n",
       "2      0000f46a3911fa3c0805444483337064      3             1.0\n",
       "3      0000f6ccb0745a6a4b88665a16c9f078     10             1.0\n",
       "4      0004aac84e0df4da2b147fca70cf8255     11             1.0\n",
       "...                                 ...    ...             ...\n",
       "97996  fffcf5a5ff07b0908bd4e2dbc735a684      6             1.0\n",
       "97997  fffea47cd6d3cc0a88bd621562a9d061     12             1.0\n",
       "97998  ffff371b4d645b6ecea244b27531430a      2             1.0\n",
       "97999  ffff5962728ec6157033ef9805bacc48      5             1.0\n",
       "98000  ffffd2657e2aad2907e67c3e9daecbeb      5             1.0\n",
       "\n",
       "[98001 rows x 3 columns]"
      ]
     },
     "execution_count": 11,
     "metadata": {},
     "output_type": "execute_result"
    }
   ],
   "source": [
    "#Соединим датафреймы для начала👉👈\n",
    "customers_orders = customers.merge(orders, on = 'customer_id')\n",
    "\n",
    "#Выделим необходимые нам участки даты\n",
    "customers_orders['week'] = customers_orders['order_purchase_timestamp'].dt.week\n",
    "customers_orders['month'] = customers_orders['order_purchase_timestamp'].dt.month\n",
    "\n",
    "#Группировка заказов по уникальному идентификатору покупателя и номеру недели\n",
    "orders_per_customer_per_week = customers_orders.groupby(['customer_unique_id', 'month', 'week']).size().reset_index(name='order_count')\n",
    "\n",
    "#Группировка заказов по месяцам, посчитаем среднее и выбросим дубликаты🚯\n",
    "average_orders_per_week = orders_per_customer_per_week.groupby(['customer_unique_id', 'month'])['order_count'].mean().reset_index(name='average_orders')\n",
    "average_orders_per_week.drop_duplicates()\n",
    "#Вот ☝ датафрейм с ответом на вопрос. Далее продемонстрирую нагляднее."
   ]
  },
  {
   "cell_type": "code",
   "execution_count": 12,
   "metadata": {},
   "outputs": [
    {
     "data": {
      "text/plain": [
       "<matplotlib.axes._subplots.AxesSubplot at 0x7f75ba7cfef0>"
      ]
     },
     "execution_count": 12,
     "metadata": {},
     "output_type": "execute_result"
    },
    {
     "data": {
      "image/png": "[encoded data removed]",
      "text/plain": [
       "<Figure size 432x288 with 1 Axes>"
      ]
     },
     "metadata": {
      "needs_background": "light"
     },
     "output_type": "display_data"
    }
   ],
   "source": [
    "#Для наглядности продемонстрируем на графике👀\n",
    "sns.lineplot(data = average_orders_per_week, x = 'month', y = 'average_orders')\n",
    "#По всей видимости пользователи совершают в среднем примерно 1-2 покупки в неделю втечение любого месяца🤔🤔🤔"
   ]
  },
  {
   "cell_type": "code",
   "execution_count": null,
   "metadata": {},
   "outputs": [],
   "source": [
    "#5.\n",
    "#Используя pandas, проведи когортный анализ пользователей. \n",
    "#В период с января по декабрь выяви когорту с самым высоким retention на 3й месяц."
   ]
  },
  {
   "cell_type": "code",
   "execution_count": 13,
   "metadata": {},
   "outputs": [],
   "source": [
    "#Для удобства я вновь соединю датасеты и создам ключевую колонку cohort_month😎\n",
    "#Воспользуюсь уже созданным ранее датафреймом для манипуляций колонкой с уникальными ID пользователей\n",
    "customers_orders = customers.merge(orders, on='customer_id')\n",
    "customers_orders['order_month'] = customers_orders.order_purchase_timestamp.dt.to_period('M')\n",
    "customers_orders['cohort_month'] = customers_orders.groupby('customer_unique_id')['order_month'].transform('min')\n",
    "\n",
    "#Создам столбец order_period\n",
    "#Ради вычислительных операций преобразуем order_month и cohort_month в численный тип\n",
    "customers_orders['order_period'] = (customers_orders.order_month.astype('int') - customers_orders.cohort_month.astype('int'))\n",
    "\n",
    "#Создание когорт и подсчет количества уникальных пользователей\n",
    "cohorts = customers_orders.groupby(['cohort_month', 'order_period']).agg({'customer_unique_id': 'nunique'}).reset_index()\n",
    "\n",
    "#Расчет retention rate\n",
    "cohorts['retention'] = cohorts['customer_unique_id'].div(cohorts.groupby('cohort_month')['customer_unique_id'].transform('first'))\n",
    "\n",
    "#Фильтрация и нахождение когорты с самым высоким retention на 3-й месяц\n",
    "retention_3rd_month = cohorts[cohorts['order_period'] == 3]\n",
    "highest_retention_cohort = retention_3rd_month[retention_3rd_month['retention'] == retention_3rd_month['retention'].max()]\n",
    "#highest_retention_cohort\n",
    "#Ответ:^☝ 0.004141"
   ]
  },
  {
   "cell_type": "code",
   "execution_count": null,
   "metadata": {},
   "outputs": [],
   "source": [
    "#6\n",
    "#Часто для качественного анализа аудитории использую подходы, основанные на сегментации. \n",
    "#Используя python, построй RFM-сегментацию пользователей, чтобы качественно оценить свою аудиторию. \n",
    "#В кластеризации можешь выбрать следующие метрики: \n",
    "#R - время от последней покупки пользователя до текущей даты, \n",
    "#F - суммарное количество покупок у пользователя за всё время, \n",
    "#M - сумма покупок за всё время. Подробно опиши, как ты создавал кластеры. \n",
    "#Для каждого RFM-сегмента построй границы метрик recency, frequency и monetary для интерпретации этих кластеров.\n",
    "#Пример такого описания: RFM-сегмент 132 (recency=1, frequency=3, monetary=2) имеет границы метрик recency от 130 до 500 дней,\n",
    "#frequency от 2 до 5 заказов в неделю, monetary от 1780 до 3560 рублей в неделю."
   ]
  },
  {
   "cell_type": "code",
   "execution_count": 14,
   "metadata": {},
   "outputs": [
    {
     "name": "stdout",
     "output_type": "stream",
     "text": [
      "RFM-сегмент 0: Recency от 1955.0 до 2449.0 дней, Frequency от 1.0 до 6.0 заказов, Monetary от 2.29 до 1049.0 рублей.\n",
      "RFM-сегмент 1: Recency от 1726.0 до 1984.0 дней, Frequency от 1.0 до 3.0 заказов, Monetary от 0.85 до 193.0 рублей.\n",
      "RFM-сегмент 2: Recency от 1721.0 до 2279.0 дней, Frequency от 1.0 до 16.0 заказов, Monetary от 76.0 до 1140.9 рублей.\n",
      "RFM-сегмент 3: Recency от 1729.0 до 2419.0 дней, Frequency от 1.0 до 5.0 заказов, Monetary от 1090.0 до 13440.0 рублей.\n"
     ]
    }
   ],
   "source": [
    "# Объединение таблиц снова, но уже всех вместе👉👈\n",
    "customers_orders = customers_orders.merge(items, on='order_id')\n",
    "\n",
    "# Организуем столбец с датой/временем\n",
    "customers_orders['order_purchase_timestamp'] = pd.to_datetime(customers_orders['order_purchase_timestamp'])\n",
    "\n",
    "# Расчет метрик RFM\n",
    "today = datetime.now()\n",
    "recency = customers_orders.groupby('customer_unique_id')['order_purchase_timestamp'].max().reset_index()\n",
    "recency['recency'] = (today - recency['order_purchase_timestamp']).dt.days\n",
    "frequency = customers_orders.groupby('customer_unique_id')['order_id'].nunique().reset_index()\n",
    "frequency.rename(columns={'order_id': 'frequency'}, inplace=True)\n",
    "monetary = customers_orders.groupby('customer_unique_id')['price'].sum().reset_index()\n",
    "monetary.rename(columns={'price': 'monetary'}, inplace=True)\n",
    "\n",
    "# Объединение метрик\n",
    "rfm = recency.merge(frequency, on='customer_unique_id')\n",
    "rfm = rfm.merge(monetary, on='customer_unique_id')\n",
    "\n",
    "# Стандартизация данных\n",
    "rfm_scaled = (rfm[['recency', 'frequency', 'monetary']] - rfm[['recency', 'frequency', 'monetary']].mean()) / rfm[['recency', 'frequency', 'monetary']].std()\n",
    "\n",
    "# Количество кластеров\n",
    "k = 4 \n",
    "random.seed(42)\n",
    "centroids = random.permutation(rfm_scaled.shape[0])[:k]\n",
    "kmeans_labels = np.argmin(np.linalg.norm(rfm_scaled.values[:, None] - rfm_scaled.values[centroids], axis=-1), axis=-1)\n",
    "\n",
    "# Добавление метки в данные RFM\n",
    "rfm['cluster'] = kmeans_labels\n",
    "\n",
    "# Расчет границ метрик для каждого кластера\n",
    "cluster_bounds = rfm.groupby('cluster').agg({'recency': ['min', 'max'], 'frequency': ['min', 'max'], 'monetary': ['min', 'max']})\n",
    "\n",
    "# Вывод метрик для каждой группы🤔\n",
    "for cluster, bounds in cluster_bounds.iterrows():\n",
    "    recency_min, recency_max = bounds['recency']['min'], bounds['recency']['max']\n",
    "    frequency_min, frequency_max = bounds['frequency']['min'], bounds['frequency']['max']\n",
    "    monetary_min, monetary_max = bounds['monetary']['min'], bounds['monetary']['max']"
   ]
  },
  {
   "cell_type": "code",
   "execution_count": null,
   "metadata": {},
   "outputs": [],
   "source": [
    "#Ответ: recency_min, recency_max, frequency_min, frequency_max, monetary_min, monetary_max"
   ]
  },
  {
   "cell_type": "code",
   "execution_count": null,
   "metadata": {},
   "outputs": [],
   "source": []
  },
  {
   "cell_type": "code",
   "execution_count": null,
   "metadata": {},
   "outputs": [],
   "source": []
  },
  {
   "cell_type": "code",
   "execution_count": null,
   "metadata": {},
   "outputs": [],
   "source": []
  },
  {
   "cell_type": "code",
   "execution_count": null,
   "metadata": {},
   "outputs": [],
   "source": []
  },
  {
   "cell_type": "code",
   "execution_count": null,
   "metadata": {},
   "outputs": [],
   "source": []
  }
 ],
 "metadata": {
  "kernelspec": {
   "display_name": "Python 3",
   "language": "python",
   "name": "python3"
  },
  "language_info": {
   "codemirror_mode": {
    "name": "ipython",
    "version": 3
   },
   "file_extension": ".py",
   "mimetype": "text/x-python",
   "name": "python",
   "nbconvert_exporter": "python",
   "pygments_lexer": "ipython3",
   "version": "3.7.3"
  }
 },
 "nbformat": 4,
 "nbformat_minor": 4
}
